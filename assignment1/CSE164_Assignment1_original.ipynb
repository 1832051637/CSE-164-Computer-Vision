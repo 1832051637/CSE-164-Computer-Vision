{
 "nbformat": 4,
 "nbformat_minor": 0,
 "metadata": {
  "colab": {
   "name": "CSE164_Assignment1",
   "provenance": [],
   "collapsed_sections": []
  },
  "kernelspec": {
   "name": "python3",
   "display_name": "Python 3"
  },
  "language_info": {
   "name": "python"
  }
 },
 "cells": [
  {
   "cell_type": "markdown",
   "source": [
    "# **CSE 164, Assignment 1, Spring 2022**\n"
   ],
   "metadata": {
    "id": "x5W_2W0nABSG"
   }
  },
  {
   "cell_type": "markdown",
   "source": [
    "## **Name**:          \n",
    "## **Student ID**:"
   ],
   "metadata": {
    "id": "IAZX1Z-cBjp9"
   }
  },
  {
   "cell_type": "markdown",
   "source": [
    "## Instruction \n",
    "\n",
    "- Submit your assignments onto **Canvas** by the due date. Upload a <code>zip</code> file containing:\n",
    "\n",
    "    (1) The saved/latest <code>.ipynb</code> file with solutions to the programming assignment.\n",
    "    \n",
    "    \n",
    "- This is an **individual** assignment. All help from others (from the web, books other than text, or people other than the TA or instructor) must be clearly acknowledged. \n",
    "- Don't use any magic function from other libraries. You will get **no credit** if a Gaussian function from a known library is used when you are asked to implement “Gaussian Filtering” from scratch.\n",
    "- Don't change the input and output structure of pre-defined functions. Most coding parts can be finished with about 5-6 lines of codes. \n",
    "- Make sure you have installed required packages: <code>numpy, scikit-image, PIL, opencv-python, matplotlib</code>\n",
    "\n",
    "## Objective \n",
    "\n",
    "- **Task 1:** Review of **Image Filtering**\n",
    "- **Task 2:** Review of **Edge Detection**\n",
    "- **Task 3:** Getting familiar with **Numpy**, **OpenCV**, and **Matplotlib**"
   ],
   "metadata": {
    "id": "TEuTGG1tBK3n"
   }
  },
  {
   "cell_type": "markdown",
   "source": [
    "## Preparation: Import the Dependencies\n",
    "\n",
    "> This section loads some required libraries used in this notebook: **numpy**,**cv2**, **skimage**, **PIL**, **matplotlib**"
   ],
   "metadata": {
    "id": "Q8IDvLjrD4un"
   }
  },
  {
   "cell_type": "code",
   "source": [
    "import numpy as np\n",
    "import cv2 as cv \n",
    "from skimage import io\n",
    "from PIL import Image \n",
    "import matplotlib.pylab as plt"
   ],
   "metadata": {
    "id": "nYzhphM3DWjJ"
   },
   "execution_count": 27,
   "outputs": []
  },
  {
   "cell_type": "markdown",
   "source": [
    "## Preparation: Read Image from Urls\n",
    "\n",
    "> In this step we will read an image from url, and display it using Matplotlib."
   ],
   "metadata": {
    "id": "5U4xxzBjGB-4"
   }
  },
  {
   "cell_type": "code",
   "source": [
    "url = \"https://news.ucsc.edu/2011/06/images/slugcloseup350.jpg\"  \n",
    "\n",
    "image = io.imread(url)\n",
    "print(f'image shape: {image.shape}')\n",
    "plt.xticks([]), plt.yticks([])\n",
    "plt.imshow(image)"
   ],
   "metadata": {
    "id": "fTCuqyB9GHz_"
   },
   "execution_count": null,
   "outputs": []
  },
  {
   "cell_type": "markdown",
   "source": [
    "## Question1: Gaussian Filtering (10pts)\n",
    "\n",
    "> In this question, you will apply gaussian filtering to an image corrupted by gaussian noise.\n",
    "\n",
    "\n",
    "\n"
   ],
   "metadata": {
    "id": "i-QQEGqsEDC9"
   }
  },
  {
   "cell_type": "markdown",
   "source": [
    "Add gaussian noise onto the clean image, which can be directly sampled from a normal(gaussian) distribution."
   ],
   "metadata": {
    "id": "BhjL0tNTmbxm"
   }
  },
  {
   "cell_type": "code",
   "source": [
    "row, column, channel = image.shape\n",
    "mean = 0\n",
    "var = 25\n",
    "sigma = var**0.5\n",
    "gauss_noise = np.random.normal(mean,sigma, (row,column,channel))\n",
    "gauss_noise = gauss_noise.reshape(row,column,channel)\n",
    "gauss_noisy_image = (image + gauss_noise).astype(np.uint8)"
   ],
   "metadata": {
    "id": "zOh8_d1zWMK1"
   },
   "execution_count": 3,
   "outputs": []
  },
  {
   "cell_type": "markdown",
   "source": [
    "## Question1.1 (10pts)\n",
    "**Compute 2D gaussian kernel using 1D gaussian kernel with OpenCV api.**\n",
    "\n",
    "> The gaussian kernel is an approximation of a gaussian function, where the nearest neighboring pixels have the most influence on the output.\n",
    "\n",
    "\n",
    "> In OpenCV, the gaussian kernel is created with the function, [cv.getGaussianKernel()](https://docs.opencv.org/4.x/d4/d86/group__imgproc__filter.html#gac05a120c1ae92a6060dd0db190a61afa). Besides the the width and height of the kernel, we should also specify the standard deviation of the gaussian function in the X and Y directions. Check the docs for more details. Note that cv.getGaussianKernel() only return 1d gaussian kernel. It is you job to create 2d gaussian kernel from 1d gaussian kernel (hint: separability)\n",
    "\n",
    "\n",
    "> OpenCV provides a function [cv.filter2D()](https://docs.opencv.org/3.4/d4/d86/group__imgproc__filter.html#ga27c049795ce870216ddfb366086b5a04) to convolve a user-defined kernel with an image. The call to cv.filter2D() is provided in this assignment. Your job is to create a proper gaussian kernel."
   ],
   "metadata": {
    "id": "5FAp58rcLM_i"
   }
  },
  {
   "cell_type": "code",
   "source": [
    "def gauss_filter(img, ksize, sigma):\n",
    "  # ksize is the kernel size. It should be odd and positive.\n",
    "  # sigma is the standard deviation in gaussian distribution\n",
    "  \n",
    "  # TODO: create a 2d gaussian kernel of size ksize*ksize using cv.getGaussianKernel()\n",
    "  ################## Your codes begins here #######################\n",
    "  gaussian_kernel_1d = \n",
    "  gaussian_kernel_2d = \n",
    "  ################# Your codes ends here ###########################\n",
    "\n",
    "  img = cv.filter2D(img, -1, gaussian_kernel_2d)\n",
    "  return img"
   ],
   "metadata": {
    "id": "C4LZCWwlWmR1"
   },
   "execution_count": 4,
   "outputs": []
  },
  {
   "cell_type": "markdown",
   "source": [
    "**Apply gaussian filter to the noisy image**"
   ],
   "metadata": {
    "id": "OYFbknDIRAJR"
   }
  },
  {
   "cell_type": "code",
   "source": [
    "gauss_image = gauss_filter(gauss_noisy_image, ksize=5, sigma=3)"
   ],
   "metadata": {
    "id": "7HJb_MR8bM2P"
   },
   "execution_count": 5,
   "outputs": []
  },
  {
   "cell_type": "markdown",
   "source": [
    "**Visualize**"
   ],
   "metadata": {
    "id": "zBoNenFfRE8k"
   }
  },
  {
   "cell_type": "code",
   "source": [
    "plt.subplot(131),plt.imshow(image),plt.title('Original')\n",
    "plt.xticks([]), plt.yticks([])\n",
    "plt.subplot(132),plt.imshow(gauss_noisy_image),plt.title('Gauss Noisy')\n",
    "plt.xticks([]), plt.yticks([])\n",
    "plt.subplot(133),plt.imshow(gauss_image),plt.title('Gauss Filtered')\n",
    "plt.xticks([]), plt.yticks([])\n",
    "plt.show()"
   ],
   "metadata": {
    "id": "zVcjSC0-XH8T"
   },
   "execution_count": null,
   "outputs": []
  },
  {
   "cell_type": "markdown",
   "source": [
    "##Question2: Median Filtering (20pts)\n",
    "\n",
    "> In this question, you will apply median filtering to an image corrupted by salt-and-pepper noise.\n",
    "\n",
    "\n"
   ],
   "metadata": {
    "id": "rswVS6tSNDuU"
   }
  },
  {
   "cell_type": "markdown",
   "source": [
    "## Question2.1 (10pts)\n",
    "**Add salt-and-pepper noise to the clean image.**\n",
    "\n",
    "> Salt-and-pepper noise refers to sparsely occurring white and black pixels. The effect is similar to sprinkling white and black dots—salt and pepper—on the image."
   ],
   "metadata": {
    "id": "PhlfXVDFNPej"
   }
  },
  {
   "cell_type": "code",
   "source": [
    "def add_sp_noise(img, percent=0.005):\n",
    "  # img is clean image, percent is the ratio of pixels that are  affected by sp noise\n",
    "  # output noisy image\n",
    "  out = np.copy(img)\n",
    "\n",
    "  # Salt mode\n",
    "  num_salt = np.ceil(percent * np.prod(img.shape[:2]) * 0.5)\n",
    "  coords = tuple([np.random.randint(0, i - 1, int(num_salt))\n",
    "          for i in image.shape[:2]])\n",
    "  out[coords] = 255\n",
    "\n",
    "  # TODO: Implement Pepper mode\n",
    "  # for simplicity, we do not consider the scenario where a pixel is chosen in both salt mode and pepper mode\n",
    "  ################## Your codes begins here #######################\n",
    "\n",
    "  ################# Your codes ends here ###########################\n",
    "\n",
    "  return out"
   ],
   "metadata": {
    "id": "smhkjuE6NC2s"
   },
   "execution_count": 7,
   "outputs": []
  },
  {
   "cell_type": "code",
   "source": [
    "sp_noisy_image = add_sp_noise(image, 0.1)"
   ],
   "metadata": {
    "id": "cpgE7lYFPMuS"
   },
   "execution_count": 8,
   "outputs": []
  },
  {
   "cell_type": "markdown",
   "source": [
    "## Question2.2 (10pts)\n",
    "**Implement median filter from scratch**\n",
    "\n",
    "> The median filtering takes the median of all the pixels under the kernel area and the central element is replaced with this median value. This is highly effective against salt-and-pepper noise (random occurrences of black and white pixels) in an image."
   ],
   "metadata": {
    "id": "YSvuKsl_Qi65"
   }
  },
  {
   "cell_type": "code",
   "source": [
    "def median_filter(img, ksize=3):\n",
    "  # img is clean image\n",
    "  # ksize is kernel size and must be an odd number\n",
    "  # output median filtered image\n",
    "  assert ksize % 2 == 1\n",
    "  # set image borders\n",
    "  bd = int(ksize / 2)\n",
    "  # copy image size\n",
    "  median_img = np.zeros_like(img)\n",
    "  for i in range(bd, img.shape[0] - bd):\n",
    "    for j in range(bd, img.shape[1] - bd):\n",
    "      window = img[i - bd : i + bd + 1, j - bd : j + bd + 1, :]\n",
    "      \n",
    "      # TODO: compute the median value in the window and assign it to current pixel\n",
    "      ################## Your codes begins heree #######################\n",
    "      # flatten_window = \n",
    "      # median_val = \n",
    "      ################# Your codes ends here ###########################\n",
    "      median_img[i, j, :] = median_val.astype(np.uint8)\n",
    "  return median_img"
   ],
   "metadata": {
    "id": "JRqzSs8bRR0I"
   },
   "execution_count": 9,
   "outputs": []
  },
  {
   "cell_type": "markdown",
   "source": [
    "**Apply median filter to the noisy image**"
   ],
   "metadata": {
    "id": "cg-gZWfeUic1"
   }
  },
  {
   "cell_type": "code",
   "source": [
    "median_image = median_filter(image, 3)"
   ],
   "metadata": {
    "id": "oea1H7lgS6x5"
   },
   "execution_count": 10,
   "outputs": []
  },
  {
   "cell_type": "markdown",
   "source": [
    "**Visualize**"
   ],
   "metadata": {
    "id": "GvGCH8YFUlbN"
   }
  },
  {
   "cell_type": "code",
   "source": [
    "plt.subplot(131),plt.imshow(image),plt.title('Original')\n",
    "plt.xticks([]), plt.yticks([])\n",
    "plt.subplot(132),plt.imshow(sp_noisy_image),plt.title('SP Noisy')\n",
    "plt.xticks([]), plt.yticks([])\n",
    "plt.subplot(133),plt.imshow(median_image),plt.title('Median Filtered')\n",
    "plt.xticks([]), plt.yticks([])\n",
    "plt.show()"
   ],
   "metadata": {
    "id": "pQRB1IZMUhM3"
   },
   "execution_count": null,
   "outputs": []
  },
  {
   "cell_type": "markdown",
   "source": [
    "## Question3: Canny Edge Detection (30pts)\n",
    "\n",
    "> In this question, you will implement multiple stages of Canny Edge Detection, which is a popular edge detection algorithm developed by John F. Canny in 1986.\n",
    "\n"
   ],
   "metadata": {
    "id": "NpN1JDtVMCjN"
   }
  },
  {
   "cell_type": "markdown",
   "source": [
    "**Convert into gray-scale image**\n",
    "\n",
    "> For simplicity, we will deal with only gray-scale image. Note that OpenCV implementation can deal with color image, check [this answer](https://stackoverflow.com/questions/40725804/can-canny-in-opencv-deal-with-both-grayscale-and-color-images) for more details"
   ],
   "metadata": {
    "id": "eJFyUFZXZmxy"
   }
  },
  {
   "cell_type": "code",
   "source": [
    "gray_image = cv.cvtColor(image, cv.COLOR_BGR2GRAY)\n",
    "plt.xticks([]), plt.yticks([])\n",
    "plt.imshow(gray_image, cmap='gray', vmin=0, vmax=255)\n",
    "plt.title('Gray Image')"
   ],
   "metadata": {
    "id": "dvINY0a9aYEc"
   },
   "execution_count": null,
   "outputs": []
  },
  {
   "cell_type": "markdown",
   "source": [
    "**Noise Reduction**\n",
    "\n",
    "> Edge detection is susceptible to noise in the image. To prevent that noise is mistaken for edges, the noise in the image is reduced using a 5x5 Gaussian filter."
   ],
   "metadata": {
    "id": "gxMnYfLSZP-t"
   }
  },
  {
   "cell_type": "code",
   "source": [
    "def gauss_filter5x5(img):\n",
    "  gauss_kernel = np.array([[2, 4,  5,  2,  2],\n",
    "          [4, 9,  12, 9,  4],\n",
    "          [5, 12, 15, 12, 5],\n",
    "          [4, 9,  12, 9,  4],\n",
    "          [2, 4,  5,  4,  2]], np.float32) / 156\n",
    "  return cv.filter2D(img,-1,gauss_kernel)"
   ],
   "metadata": {
    "id": "7DqUKxZ-ZXNK"
   },
   "execution_count": 13,
   "outputs": []
  },
  {
   "cell_type": "code",
   "source": [
    "gimage = gauss_filter5x5(gray_image)"
   ],
   "metadata": {
    "id": "0UdTQXxb3wSy"
   },
   "execution_count": 14,
   "outputs": []
  },
  {
   "cell_type": "code",
   "source": [
    "plt.imshow(gimage, cmap='gray', vmin=0, vmax=255)\n",
    "plt.xticks([]), plt.yticks([])\n",
    "plt.title('After Gaussian Filter')"
   ],
   "metadata": {
    "id": "PEeLopM_3wZ4"
   },
   "execution_count": null,
   "outputs": []
  },
  {
   "cell_type": "markdown",
   "source": [
    "**Finding Gradient**\n",
    "\n",
    "> The Canny algorithm basically finds edges where the grayscale intensity of the image changes the most. To get the gradient in horizontal direction and vertical direction, smoothened image is then filtered with a Sobel kernel in both horizontal and vertical direction."
   ],
   "metadata": {
    "id": "6kElpPOe4pXQ"
   }
  },
  {
   "cell_type": "markdown",
   "source": [
    "## Question3.1 (10pts)\n",
    "\n",
    "**Implement 3x3 Sobel Kernel in both horizontal and vertical direction**\n",
    "\n",
    "> The Sobel Kernel is a discrete differentiation operator, computing an approximation of the gradient of the image intensity function.\n",
    "\n",
    "\n",
    "> Likewise, the call to cv.filter2D() is provided in this assignment. Your job is to create two 3x3 Sobel Kernels. (hint: you may refer to how gaussian kernel in the noise reduction section is created)"
   ],
   "metadata": {
    "id": "dRqpj0a94yEw"
   }
  },
  {
   "cell_type": "code",
   "source": [
    "def sobel_filter3x3(img):\n",
    "  # TODO: implement 3x3 sobel kernel \n",
    "  ################## Your codes begins here #######################\n",
    "  sobel_kernel_x = \n",
    "  sobel_kernel_y =\n",
    "  ################# Your codes ends here ###########################\n",
    "  \n",
    "  Gx = cv.filter2D(img,-1,sobel_kernel_x).astype(np.float32)\n",
    "  Gy = cv.filter2D(img,-1,sobel_kernel_y).astype(np.float32)\n",
    "  grim = np.sqrt(Gx**2 + Gy**2).astype(np.uint8)\n",
    "  gphase = np.arctan2(Gy, Gx) * 180 / np.pi\n",
    "\n",
    "  return grim, gphase"
   ],
   "metadata": {
    "id": "IJjWV7Ks4bp6"
   },
   "execution_count": 16,
   "outputs": []
  },
  {
   "cell_type": "code",
   "source": [
    "grim, gphase = sobel_filter3x3(gimage)"
   ],
   "metadata": {
    "id": "EpljHNtw56fW"
   },
   "execution_count": 17,
   "outputs": []
  },
  {
   "cell_type": "markdown",
   "source": [
    "## Question3.2 (10pts)\n",
    "\n",
    "**Complete Non-maximum Suppression**\n",
    "\n",
    "> After getting gradient magnitude and direction, a full scan of image is done to remove any unwanted pixels which may not constitute the edge. For this, at every pixel, pixel is checked if it is a local maximum in its neighborhood in the direction of gradient. Its value is kept if it is, and removed otherwise. The result you get is a binary image with \"thin edges\".\n",
    "\n",
    "\n",
    "> The direction is rounded to one of four possible angles (namely 0, 45, 90 or 135). Only code for two of them is provided, implement the code for the other two."
   ],
   "metadata": {
    "id": "IEIq4njF6TQw"
   }
  },
  {
   "cell_type": "code",
   "source": [
    "def nms(grim, gphase):\n",
    "  # grim contains gradient magnitude at each pixel, gphase contains gradient direction at each pixel\n",
    "  # output gradient image after nms\n",
    "  gmax = np.zeros(grim.shape)\n",
    "  for i in range(gmax.shape[0]):\n",
    "    for j in range(gmax.shape[1]):\n",
    "      if gphase[i][j] < 0:\n",
    "        gphase[i][j] += 360\n",
    "      \n",
    "      if ((j + 1) < gmax.shape[1]) and ((j - 1) >= 0) and ((i + 1) < gmax.shape[0]) and ((i - 1) >= 0):\n",
    "        # 0 degrees\n",
    "        if (gphase[i][j] >= 337.5 or gphase[i][j] < 22.5) or (gphase[i][j] >= 157.5 and gphase[i][j] < 202.5):\n",
    "            if grim[i][j] >= grim[i][j + 1] and grim[i][j] >= grim[i][j - 1]:\n",
    "                gmax[i][j] = grim[i][j]\n",
    "        # 45 degrees\n",
    "        if (gphase[i][j] >= 22.5 and gphase[i][j] < 67.5) or (gphase[i][j] >= 202.5 and gphase[i][j] < 247.5):\n",
    "            if grim[i][j] >= grim[i - 1][j + 1] and grim[i][j] >= grim[i + 1][j - 1]:\n",
    "                gmax[i][j] = grim[i][j]\n",
    "\n",
    "        # TODO: implement non-maximum suppression for 90 degrees and 135 degrees\n",
    "        ################## Your codes begins here #######################\n",
    "        # 90 degrees\n",
    "\n",
    "        # 135 degrees\n",
    "        ################# Your codes ends here ###########################\n",
    "\n",
    "  return gmax"
   ],
   "metadata": {
    "id": "jYGBG8q_6MpG"
   },
   "execution_count": 19,
   "outputs": []
  },
  {
   "cell_type": "code",
   "source": [
    "gmax = nms(grim, gphase)"
   ],
   "metadata": {
    "id": "2e5tfxVH7DWA"
   },
   "execution_count": 20,
   "outputs": []
  },
  {
   "cell_type": "code",
   "source": [
    "plt.xticks([]), plt.yticks([])\n",
    "plt.imshow(gmax, cmap='gray', vmin=0, vmax=255)\n",
    "plt.title('After Non-Maximum Suppression')"
   ],
   "metadata": {
    "id": "bglXjWae7DdO"
   },
   "execution_count": null,
   "outputs": []
  },
  {
   "cell_type": "markdown",
   "source": [
    "**Hysteresis Thresholding**\n",
    "\n",
    "> This stage decides which are all edges are really edges and which are not. For this, we need two threshold values, minVal and maxVal. Any edges with intensity gradient more than maxVal are sure to be edges and those below minVal are sure to be non-edges, so discarded. Those who lie between these two thresholds are classified edges or non-edges based on their connectivity. If they are connected to \"sure-edge\" pixels, they are considered to be part of edges. Otherwise, they are also discarded."
   ],
   "metadata": {
    "id": "nAnhNZNR7Kne"
   }
  },
  {
   "cell_type": "markdown",
   "source": [
    "**Double Thresholding**\n",
    "\n",
    "> Edge pixels stronger than the high threshold are marked as strong; edge pixels weaker than the low threshold are suppressed and edge pixels between the two thresholds are marked as weak."
   ],
   "metadata": {
    "id": "gsXl6aV87Kpn"
   }
  },
  {
   "cell_type": "code",
   "source": [
    "def double_threshold(img):\n",
    "  gthres  = np.zeros(img.shape)\n",
    "  strong = 1\n",
    "  weak  = 0.6\n",
    "  mmax = np.max(img)\n",
    "  low, high = 0.1 * mmax,0.8 * mmax\n",
    "  strongs = []\n",
    "  for i in range(img.shape[0]):\n",
    "    for j in range(img.shape[1]):\n",
    "      px = img[i][j]\n",
    "      if px >= high:\n",
    "        gthres[i][j] = strong\n",
    "        strongs.append((i, j))\n",
    "      elif px >= low:\n",
    "        gthres[i][j] = weak\n",
    "  \n",
    "  return gthres, strongs"
   ],
   "metadata": {
    "id": "tTZL7vwE73SG"
   },
   "execution_count": 22,
   "outputs": []
  },
  {
   "cell_type": "code",
   "source": [
    "gthres, strongs = double_threshold(gmax)"
   ],
   "metadata": {
    "id": "SdGDLleA8NO-"
   },
   "execution_count": 23,
   "outputs": []
  },
  {
   "cell_type": "markdown",
   "source": [
    "## Question3.3 (10pts)\n",
    "\n",
    "**implement the condition where a pixel is marked as part of an edge in DFS.**\n",
    "\n",
    "> The algorithm considers strong pixels and weak pixels connected to strong pixels as part of edges. After double thresholding, a search algorithm is run to find such pixels.\n",
    "\n",
    "\n",
    "> Here we consider two pixels are connected if they are adjacent in 8 directions: top, bottom, left, right, upper right, upper left, lower right, lower left.\n",
    "\n",
    "\n",
    "> Depth-first search (DFS) is an algorithm for traversing or searching tree or graph data structures. Here it is used to traverse over all pixels in the image to see if they are a part of edges. Check [here](https://www.geeksforgeeks.org/depth-first-search-or-dfs-for-a-graph/) for more details. \n"
   ],
   "metadata": {
    "id": "pSmHZmg9-g0d"
   }
  },
  {
   "cell_type": "code",
   "source": [
    "visited = np.zeros(gthres.shape, bool)\n",
    "# 8-connectivity: bottom, right, top, left, upper right, upper left, lower right, lower left\n",
    "dx = [1, 0, -1,  0, -1, -1, 1,  1]\n",
    "dy = [0, 1,  0, -1,  1, -1, 1, -1]\n",
    "\n",
    "def exists(x, y):\n",
    "    return x >= 0 and x < gthres.shape[0] and y >= 0 and y < gthres.shape[1]\n",
    "\n",
    "def dfs(origin):\n",
    "  # after dfs, the pixels with value=1 in visited are marked as edges\n",
    "  q = [origin]\n",
    "  while len(q) > 0:\n",
    "    s = q.pop()\n",
    "    visited[s] = True\n",
    "    gthres[s] = 1\n",
    "    for k in range(len(dx)):\n",
    "      for c in range(1, 16):\n",
    "        nx, ny = s[0] + c * dx[k], s[1] + c * dy[k]\n",
    "        \n",
    "        # TODO: implement the condition where this pixel should be visited (and thus marked as part of an edeg)\n",
    "        ################## Your codes begins here #######################\n",
    "        if :\n",
    "        ################# Your codes ends here ###########################\n",
    "          q.append((nx, ny))"
   ],
   "metadata": {
    "id": "LJ1cuiyn8c0-"
   },
   "execution_count": 24,
   "outputs": []
  },
  {
   "cell_type": "code",
   "source": [
    "for s in strongs:\n",
    "  if not visited[s]:\n",
    "    dfs(s)\n",
    "for i in range(gthres.shape[0]):\n",
    "  for j in range(gthres.shape[1]):\n",
    "    gthres[i, j] = 1.0 if visited[i, j] else 0.0"
   ],
   "metadata": {
    "id": "9Bh76fbq9OY0"
   },
   "execution_count": 25,
   "outputs": []
  },
  {
   "cell_type": "code",
   "source": [
    "plt.xticks([]), plt.yticks([])\n",
    "plt.imshow(gthres, cmap='gray')\n",
    "plt.title('After Hysteresis Thresholding')\n",
    "# Your final plot should look something like this"
   ],
   "metadata": {
    "colab": {
     "base_uri": "https://localhost:8080/",
     "height": 286
    },
    "id": "psGDhbcN9k_1",
    "outputId": "825c0c0f-9248-4c73-e76a-0721547d4fe2"
   },
   "execution_count": 26,
   "outputs": [
    {
     "output_type": "execute_result",
     "data": {
      "text/plain": [
       "Text(0.5, 1.0, 'After Hysteresis Thresholding')"
      ]
     },
     "metadata": {},
     "execution_count": 26
    },
    {
     "output_type": "display_data",
     "data": {
      "text/plain": [
       "<Figure size 432x288 with 1 Axes>"
      ],
      "image/png": "[encoded data removed]"
     },
     "metadata": {}
    }
   ]
  }
 ]
}